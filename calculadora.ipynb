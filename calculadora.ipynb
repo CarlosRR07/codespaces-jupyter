{
 "cells": [
  {
   "cell_type": "code",
   "execution_count": 15,
   "metadata": {},
   "outputs": [
    {
     "name": "stdout",
     "output_type": "stream",
     "text": [
      "1. suma\n",
      "2. resta\n",
      "3. multiplicación\n",
      "4. divición\n",
      "3.0\n"
     ]
    }
   ],
   "source": [
    "Número1 = float(input(\"Dame un número\"))\n",
    "Número2 = float(input(\"Dame otro número\"))\n",
    "print (\"1. suma\")\n",
    "print (\"2. resta\")\n",
    "print (\"3. multiplicación\")\n",
    "print (\"4. divición\")\n",
    "calculo = float(input(\"selecciona la operación que quieras\"))\n",
    "if calculo == 1:\n",
    "    resultado = Número1 + Número2\n",
    "    print (str(resultado))\n",
    "if calculo == 2:\n",
    "    resultado = Número1 - Número2\n",
    "    print (str(resultado))\n",
    "if calculo == 3:\n",
    "    resultado = Número1 * Número2\n",
    "    print (str(resultado))\n",
    "if calculo == 4:\n",
    "    resultado = Número1 / Número2\n",
    "    print (str(resultado))"
   ]
  }
 ],
 "metadata": {
  "kernelspec": {
   "display_name": "Python 3",
   "language": "python",
   "name": "python3"
  },
  "language_info": {
   "codemirror_mode": {
    "name": "ipython",
    "version": 3
   },
   "file_extension": ".py",
   "mimetype": "text/x-python",
   "name": "python",
   "nbconvert_exporter": "python",
   "pygments_lexer": "ipython3",
   "version": "3.10.13"
  }
 },
 "nbformat": 4,
 "nbformat_minor": 2
}
