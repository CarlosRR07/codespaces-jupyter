{
 "cells": [
  {
   "cell_type": "code",
   "execution_count": 2,
   "metadata": {},
   "outputs": [
    {
     "name": "stdout",
     "output_type": "stream",
     "text": [
      "El sonido tardaría 27.081 segundos en recorrer 9343.0 metros\n"
     ]
    }
   ],
   "source": [
    "distancia= float(input())\n",
    "velocidad_del_sonido= 345\n",
    "tiempo= round((distancia/velocidad_del_sonido),3)\n",
    "print(\"El sonido tardaría\", (tiempo), \"segundos en recorrer\", (distancia), \"metros\")"
   ]
  }
 ],
 "metadata": {
  "kernelspec": {
   "display_name": "Python 3",
   "language": "python",
   "name": "python3"
  },
  "language_info": {
   "codemirror_mode": {
    "name": "ipython",
    "version": 3
   },
   "file_extension": ".py",
   "mimetype": "text/x-python",
   "name": "python",
   "nbconvert_exporter": "python",
   "pygments_lexer": "ipython3",
   "version": "3.10.13"
  }
 },
 "nbformat": 4,
 "nbformat_minor": 2
}
